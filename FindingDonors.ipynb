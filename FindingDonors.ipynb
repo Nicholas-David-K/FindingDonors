{
 "cells": [
  {
   "cell_type": "markdown",
   "metadata": {},
   "source": [
    "# Finding Donors\n",
    "  - Your goal with this implementation is to construct a model that accurately predicts whether an individual makes more than $50,000. This sort of task can arise in a non-profit setting, where organizations survive on donations.  Understanding an individual's income can help a non-profit better understand how large of a donation to request, or whether or not they should reach out to begin with."
   ]
  },
  {
   "cell_type": "code",
   "execution_count": 163,
   "metadata": {},
   "outputs": [],
   "source": [
    "# Data preprocessing\n",
    "import numpy as np\n",
    "import pandas as pd\n",
    "\n",
    "# Plots\n",
    "import matplotlib.pyplot as plt\n",
    "plt.rcParams['figure.figsize'] = (29, 10)\n",
    "# plt.style.use('fivethirtyeight')\n",
    "import seaborn as sns\n",
    "%matplotlib inline\n",
    "plt.rcParams['axes.unicode_minus'] = False\n",
    "\n",
    "# Distribution plots\n",
    "from scipy import stats\n",
    "from scipy.stats import norm\n",
    "\n",
    "# Feature Scaling\n",
    "from sklearn.preprocessing import StandardScaler\n",
    "from sklearn.pipeline import Pipeline\n",
    "\n",
    "# Encoding \n",
    "from sklearn.preprocessing import OneHotEncoder\n",
    "from sklearn.compose import ColumnTransformer\n",
    "\n",
    "# Algorithms\n",
    "from sklearn.model_selection import train_test_split\n",
    "from sklearn.linear_model import LogisticRegression\n",
    "from sklearn.svm import SVC\n",
    "from sklearn.tree import DecisionTreeClassifier\n",
    "from sklearn.neighbors import KNeighborsClassifier\n",
    "from sklearn.ensemble import RandomForestClassifier\n",
    "from xgboost import XGBClassifier\n",
    "\n",
    "from sklearn.ensemble import GradientBoostingClassifier, AdaBoostClassifier\n",
    "from sklearn.linear_model import SGDClassifier\n",
    "\n",
    "# Evaluation metrics\n",
    "from sklearn.metrics import accuracy_score, make_scorer\n",
    "from sklearn.metrics import f1_score\n",
    "from sklearn.metrics import confusion_matrix\n",
    "\n",
    "from sklearn.model_selection import cross_val_score\n",
    "\n",
    "# Hyperparameter tuning\n",
    "from sklearn.model_selection import GridSearchCV\n",
    "\n",
    "from time import time"
   ]
  },
  {
   "cell_type": "code",
   "execution_count": 164,
   "metadata": {},
   "outputs": [
    {
     "data": {
      "text/html": [
       "<div>\n",
       "<style scoped>\n",
       "    .dataframe tbody tr th:only-of-type {\n",
       "        vertical-align: middle;\n",
       "    }\n",
       "\n",
       "    .dataframe tbody tr th {\n",
       "        vertical-align: top;\n",
       "    }\n",
       "\n",
       "    .dataframe thead th {\n",
       "        text-align: right;\n",
       "    }\n",
       "</style>\n",
       "<table border=\"1\" class=\"dataframe\">\n",
       "  <thead>\n",
       "    <tr style=\"text-align: right;\">\n",
       "      <th></th>\n",
       "      <th>age</th>\n",
       "      <th>workclass</th>\n",
       "      <th>education_level</th>\n",
       "      <th>education-num</th>\n",
       "      <th>marital-status</th>\n",
       "      <th>occupation</th>\n",
       "      <th>relationship</th>\n",
       "      <th>race</th>\n",
       "      <th>sex</th>\n",
       "      <th>capital-gain</th>\n",
       "      <th>capital-loss</th>\n",
       "      <th>hours-per-week</th>\n",
       "      <th>native-country</th>\n",
       "      <th>income</th>\n",
       "    </tr>\n",
       "  </thead>\n",
       "  <tbody>\n",
       "    <tr>\n",
       "      <th>0</th>\n",
       "      <td>39</td>\n",
       "      <td>State-gov</td>\n",
       "      <td>Bachelors</td>\n",
       "      <td>13.0</td>\n",
       "      <td>Never-married</td>\n",
       "      <td>Adm-clerical</td>\n",
       "      <td>Not-in-family</td>\n",
       "      <td>White</td>\n",
       "      <td>Male</td>\n",
       "      <td>2174.0</td>\n",
       "      <td>0.0</td>\n",
       "      <td>40.0</td>\n",
       "      <td>United-States</td>\n",
       "      <td>&lt;=50K</td>\n",
       "    </tr>\n",
       "    <tr>\n",
       "      <th>1</th>\n",
       "      <td>50</td>\n",
       "      <td>Self-emp-not-inc</td>\n",
       "      <td>Bachelors</td>\n",
       "      <td>13.0</td>\n",
       "      <td>Married-civ-spouse</td>\n",
       "      <td>Exec-managerial</td>\n",
       "      <td>Husband</td>\n",
       "      <td>White</td>\n",
       "      <td>Male</td>\n",
       "      <td>0.0</td>\n",
       "      <td>0.0</td>\n",
       "      <td>13.0</td>\n",
       "      <td>United-States</td>\n",
       "      <td>&lt;=50K</td>\n",
       "    </tr>\n",
       "    <tr>\n",
       "      <th>2</th>\n",
       "      <td>38</td>\n",
       "      <td>Private</td>\n",
       "      <td>HS-grad</td>\n",
       "      <td>9.0</td>\n",
       "      <td>Divorced</td>\n",
       "      <td>Handlers-cleaners</td>\n",
       "      <td>Not-in-family</td>\n",
       "      <td>White</td>\n",
       "      <td>Male</td>\n",
       "      <td>0.0</td>\n",
       "      <td>0.0</td>\n",
       "      <td>40.0</td>\n",
       "      <td>United-States</td>\n",
       "      <td>&lt;=50K</td>\n",
       "    </tr>\n",
       "    <tr>\n",
       "      <th>3</th>\n",
       "      <td>53</td>\n",
       "      <td>Private</td>\n",
       "      <td>11th</td>\n",
       "      <td>7.0</td>\n",
       "      <td>Married-civ-spouse</td>\n",
       "      <td>Handlers-cleaners</td>\n",
       "      <td>Husband</td>\n",
       "      <td>Black</td>\n",
       "      <td>Male</td>\n",
       "      <td>0.0</td>\n",
       "      <td>0.0</td>\n",
       "      <td>40.0</td>\n",
       "      <td>United-States</td>\n",
       "      <td>&lt;=50K</td>\n",
       "    </tr>\n",
       "    <tr>\n",
       "      <th>4</th>\n",
       "      <td>28</td>\n",
       "      <td>Private</td>\n",
       "      <td>Bachelors</td>\n",
       "      <td>13.0</td>\n",
       "      <td>Married-civ-spouse</td>\n",
       "      <td>Prof-specialty</td>\n",
       "      <td>Wife</td>\n",
       "      <td>Black</td>\n",
       "      <td>Female</td>\n",
       "      <td>0.0</td>\n",
       "      <td>0.0</td>\n",
       "      <td>40.0</td>\n",
       "      <td>Cuba</td>\n",
       "      <td>&lt;=50K</td>\n",
       "    </tr>\n",
       "  </tbody>\n",
       "</table>\n",
       "</div>"
      ],
      "text/plain": [
       "   age          workclass education_level  education-num       marital-status  \\\n",
       "0   39          State-gov       Bachelors           13.0        Never-married   \n",
       "1   50   Self-emp-not-inc       Bachelors           13.0   Married-civ-spouse   \n",
       "2   38            Private         HS-grad            9.0             Divorced   \n",
       "3   53            Private            11th            7.0   Married-civ-spouse   \n",
       "4   28            Private       Bachelors           13.0   Married-civ-spouse   \n",
       "\n",
       "           occupation    relationship    race      sex  capital-gain  \\\n",
       "0        Adm-clerical   Not-in-family   White     Male        2174.0   \n",
       "1     Exec-managerial         Husband   White     Male           0.0   \n",
       "2   Handlers-cleaners   Not-in-family   White     Male           0.0   \n",
       "3   Handlers-cleaners         Husband   Black     Male           0.0   \n",
       "4      Prof-specialty            Wife   Black   Female           0.0   \n",
       "\n",
       "   capital-loss  hours-per-week  native-country income  \n",
       "0           0.0            40.0   United-States  <=50K  \n",
       "1           0.0            13.0   United-States  <=50K  \n",
       "2           0.0            40.0   United-States  <=50K  \n",
       "3           0.0            40.0   United-States  <=50K  \n",
       "4           0.0            40.0            Cuba  <=50K  "
      ]
     },
     "execution_count": 164,
     "metadata": {},
     "output_type": "execute_result"
    }
   ],
   "source": [
    "data = pd.read_csv('census.csv')\n",
    "data.head()"
   ]
  },
  {
   "cell_type": "markdown",
   "metadata": {},
   "source": [
    "A cursory investigation of the dataset will determine how many individuals fit into either group, and will tell us about the percentage of these individuals making more than \\$50,000. In the code cell below, you will need to compute the following:\n",
    "- The total number of records, `'n_records'`\n",
    "- The number of individuals making more than \\$50,000 annually, `'n_greater_50k'`.\n",
    "- The number of individuals making at most \\$50,000 annually, `'n_at_most_50k'`.\n",
    "- The percentage of individuals making more than \\$50,000 annually, `'greater_percent'`.\n",
    "\n",
    "** HINT: ** You may need to look at the table above to understand how the `'income'` entries are formatted. "
   ]
  },
  {
   "cell_type": "code",
   "execution_count": 165,
   "metadata": {},
   "outputs": [
    {
     "name": "stdout",
     "output_type": "stream",
     "text": [
      "The total number of records is 45222\n",
      "The total number of individuals making more than $50,000 annually is 11208\n",
      "The total number of individuals making at most $50,000 annually is 34014\n",
      "The percentage of individuals making more than $50,000 annually is 24.78 %\n"
     ]
    }
   ],
   "source": [
    "n_records = len(data)\n",
    "n_greater_50k = len(data[data['income'] == '>50K'])\n",
    "n_at_most_50k = len(data[data['income'] == '<=50K'])\n",
    "greater_percent = (n_greater_50k / n_records) * 100\n",
    "print('The total number of records is {}'.format(n_records))\n",
    "print('The total number of individuals making more than $50,000 annually is {}'.format(n_greater_50k))\n",
    "print('The total number of individuals making at most $50,000 annually is {}'.format(n_at_most_50k))\n",
    "print('The percentage of individuals making more than $50,000 annually is {:.2f} %'.format(greater_percent))"
   ]
  },
  {
   "cell_type": "markdown",
   "metadata": {},
   "source": [
    "**Data Preprocessing**\n",
    "- Transform skewed continuous variables\n",
    "    - A dataset may sometimes contain at least one feature whose values tend to lie near a single number, but will also have a non-trivial number of vastly larger or smaller values than that single number.  Algorithms can be sensitive to such distributions of values and can underperform if the range is not properly normalized. With the census dataset two features fit this description: '`age'`, '`capital-gain'` and `'capital-loss'`. \n",
    "\n",
    "Run the code cell below to plot a histogram of these three features. Note the range of the values present and how they are distributed."
   ]
  },
  {
   "cell_type": "code",
   "execution_count": 172,
   "metadata": {},
   "outputs": [
    {
     "data": {
      "image/png": "[encoded data removed]",
      "text/plain": [
       "<Figure size 1440x720 with 5 Axes>"
      ]
     },
     "metadata": {
      "needs_background": "light"
     },
     "output_type": "display_data"
    }
   ],
   "source": [
    "fig = plt.figure(figsize=(20, 10))\n",
    "numerical = ['age', 'education-num', 'capital-gain', 'capital-loss', 'hours-per-week']\n",
    "\n",
    "for i, col in enumerate(numerical, start=1):\n",
    "    fig.add_subplot(2, 3, i)\n",
    "    data[col].hist(bins=25, color='r', alpha=0.6)\n",
    "    plt.xlabel(col)\n",
    "    plt.ylabel('density')\n",
    "    plt.show"
   ]
  },
  {
   "cell_type": "code",
   "execution_count": 173,
   "metadata": {
    "scrolled": false
   },
   "outputs": [
    {
     "data": {
      "image/png": "[encoded data removed]",
      "text/plain": [
       "<Figure size 1440x432 with 2 Axes>"
      ]
     },
     "metadata": {
      "needs_background": "light"
     },
     "output_type": "display_data"
    }
   ],
   "source": [
    "# Normalize the skewed data\n",
    "skewed = ['capital-gain', 'capital-loss']\n",
    "for col in skewed:\n",
    "    data[col] = np.log(data[col].values + 1)\n",
    "\n",
    "\n",
    "# View new results\n",
    "fig = plt.figure(figsize=(20, 6))\n",
    "for i, col in enumerate(skewed, start=1):\n",
    "    fig.add_subplot(1, 2, i)\n",
    "    data[col].hist(bins=2, color='r', alpha=0.6)\n",
    "    plt.xlabel(col)\n",
    "    plt.ylabel('density')\n",
    "    plt.suptitle('Log-transformed Distributions of Continuous Census Data Features')\n",
    "    plt.show"
   ]
  },
  {
   "cell_type": "markdown",
   "metadata": {},
   "source": [
    "**Select independent and dependent variables**"
   ]
  },
  {
   "cell_type": "code",
   "execution_count": 67,
   "metadata": {},
   "outputs": [],
   "source": [
    "X = data.iloc[:, :-1]\n",
    "y = data.iloc[:, -1]"
   ]
  },
  {
   "cell_type": "code",
   "execution_count": 69,
   "metadata": {},
   "outputs": [
    {
     "data": {
      "text/html": [
       "<div>\n",
       "<style scoped>\n",
       "    .dataframe tbody tr th:only-of-type {\n",
       "        vertical-align: middle;\n",
       "    }\n",
       "\n",
       "    .dataframe tbody tr th {\n",
       "        vertical-align: top;\n",
       "    }\n",
       "\n",
       "    .dataframe thead th {\n",
       "        text-align: right;\n",
       "    }\n",
       "</style>\n",
       "<table border=\"1\" class=\"dataframe\">\n",
       "  <thead>\n",
       "    <tr style=\"text-align: right;\">\n",
       "      <th></th>\n",
       "      <th>age</th>\n",
       "      <th>workclass</th>\n",
       "      <th>education_level</th>\n",
       "      <th>education-num</th>\n",
       "      <th>marital-status</th>\n",
       "      <th>occupation</th>\n",
       "      <th>relationship</th>\n",
       "      <th>race</th>\n",
       "      <th>sex</th>\n",
       "      <th>capital-gain</th>\n",
       "      <th>capital-loss</th>\n",
       "      <th>hours-per-week</th>\n",
       "      <th>native-country</th>\n",
       "    </tr>\n",
       "  </thead>\n",
       "  <tbody>\n",
       "    <tr>\n",
       "      <th>0</th>\n",
       "      <td>39</td>\n",
       "      <td>State-gov</td>\n",
       "      <td>Bachelors</td>\n",
       "      <td>13.0</td>\n",
       "      <td>Never-married</td>\n",
       "      <td>Adm-clerical</td>\n",
       "      <td>Not-in-family</td>\n",
       "      <td>White</td>\n",
       "      <td>Male</td>\n",
       "      <td>2174.0</td>\n",
       "      <td>0.0</td>\n",
       "      <td>40.0</td>\n",
       "      <td>United-States</td>\n",
       "    </tr>\n",
       "    <tr>\n",
       "      <th>1</th>\n",
       "      <td>50</td>\n",
       "      <td>Self-emp-not-inc</td>\n",
       "      <td>Bachelors</td>\n",
       "      <td>13.0</td>\n",
       "      <td>Married-civ-spouse</td>\n",
       "      <td>Exec-managerial</td>\n",
       "      <td>Husband</td>\n",
       "      <td>White</td>\n",
       "      <td>Male</td>\n",
       "      <td>0.0</td>\n",
       "      <td>0.0</td>\n",
       "      <td>13.0</td>\n",
       "      <td>United-States</td>\n",
       "    </tr>\n",
       "    <tr>\n",
       "      <th>2</th>\n",
       "      <td>38</td>\n",
       "      <td>Private</td>\n",
       "      <td>HS-grad</td>\n",
       "      <td>9.0</td>\n",
       "      <td>Divorced</td>\n",
       "      <td>Handlers-cleaners</td>\n",
       "      <td>Not-in-family</td>\n",
       "      <td>White</td>\n",
       "      <td>Male</td>\n",
       "      <td>0.0</td>\n",
       "      <td>0.0</td>\n",
       "      <td>40.0</td>\n",
       "      <td>United-States</td>\n",
       "    </tr>\n",
       "    <tr>\n",
       "      <th>3</th>\n",
       "      <td>53</td>\n",
       "      <td>Private</td>\n",
       "      <td>11th</td>\n",
       "      <td>7.0</td>\n",
       "      <td>Married-civ-spouse</td>\n",
       "      <td>Handlers-cleaners</td>\n",
       "      <td>Husband</td>\n",
       "      <td>Black</td>\n",
       "      <td>Male</td>\n",
       "      <td>0.0</td>\n",
       "      <td>0.0</td>\n",
       "      <td>40.0</td>\n",
       "      <td>United-States</td>\n",
       "    </tr>\n",
       "    <tr>\n",
       "      <th>4</th>\n",
       "      <td>28</td>\n",
       "      <td>Private</td>\n",
       "      <td>Bachelors</td>\n",
       "      <td>13.0</td>\n",
       "      <td>Married-civ-spouse</td>\n",
       "      <td>Prof-specialty</td>\n",
       "      <td>Wife</td>\n",
       "      <td>Black</td>\n",
       "      <td>Female</td>\n",
       "      <td>0.0</td>\n",
       "      <td>0.0</td>\n",
       "      <td>40.0</td>\n",
       "      <td>Cuba</td>\n",
       "    </tr>\n",
       "    <tr>\n",
       "      <th>...</th>\n",
       "      <td>...</td>\n",
       "      <td>...</td>\n",
       "      <td>...</td>\n",
       "      <td>...</td>\n",
       "      <td>...</td>\n",
       "      <td>...</td>\n",
       "      <td>...</td>\n",
       "      <td>...</td>\n",
       "      <td>...</td>\n",
       "      <td>...</td>\n",
       "      <td>...</td>\n",
       "      <td>...</td>\n",
       "      <td>...</td>\n",
       "    </tr>\n",
       "    <tr>\n",
       "      <th>45217</th>\n",
       "      <td>33</td>\n",
       "      <td>Private</td>\n",
       "      <td>Bachelors</td>\n",
       "      <td>13.0</td>\n",
       "      <td>Never-married</td>\n",
       "      <td>Prof-specialty</td>\n",
       "      <td>Own-child</td>\n",
       "      <td>White</td>\n",
       "      <td>Male</td>\n",
       "      <td>0.0</td>\n",
       "      <td>0.0</td>\n",
       "      <td>40.0</td>\n",
       "      <td>United-States</td>\n",
       "    </tr>\n",
       "    <tr>\n",
       "      <th>45218</th>\n",
       "      <td>39</td>\n",
       "      <td>Private</td>\n",
       "      <td>Bachelors</td>\n",
       "      <td>13.0</td>\n",
       "      <td>Divorced</td>\n",
       "      <td>Prof-specialty</td>\n",
       "      <td>Not-in-family</td>\n",
       "      <td>White</td>\n",
       "      <td>Female</td>\n",
       "      <td>0.0</td>\n",
       "      <td>0.0</td>\n",
       "      <td>36.0</td>\n",
       "      <td>United-States</td>\n",
       "    </tr>\n",
       "    <tr>\n",
       "      <th>45219</th>\n",
       "      <td>38</td>\n",
       "      <td>Private</td>\n",
       "      <td>Bachelors</td>\n",
       "      <td>13.0</td>\n",
       "      <td>Married-civ-spouse</td>\n",
       "      <td>Prof-specialty</td>\n",
       "      <td>Husband</td>\n",
       "      <td>White</td>\n",
       "      <td>Male</td>\n",
       "      <td>0.0</td>\n",
       "      <td>0.0</td>\n",
       "      <td>50.0</td>\n",
       "      <td>United-States</td>\n",
       "    </tr>\n",
       "    <tr>\n",
       "      <th>45220</th>\n",
       "      <td>44</td>\n",
       "      <td>Private</td>\n",
       "      <td>Bachelors</td>\n",
       "      <td>13.0</td>\n",
       "      <td>Divorced</td>\n",
       "      <td>Adm-clerical</td>\n",
       "      <td>Own-child</td>\n",
       "      <td>Asian-Pac-Islander</td>\n",
       "      <td>Male</td>\n",
       "      <td>5455.0</td>\n",
       "      <td>0.0</td>\n",
       "      <td>40.0</td>\n",
       "      <td>United-States</td>\n",
       "    </tr>\n",
       "    <tr>\n",
       "      <th>45221</th>\n",
       "      <td>35</td>\n",
       "      <td>Self-emp-inc</td>\n",
       "      <td>Bachelors</td>\n",
       "      <td>13.0</td>\n",
       "      <td>Married-civ-spouse</td>\n",
       "      <td>Exec-managerial</td>\n",
       "      <td>Husband</td>\n",
       "      <td>White</td>\n",
       "      <td>Male</td>\n",
       "      <td>0.0</td>\n",
       "      <td>0.0</td>\n",
       "      <td>60.0</td>\n",
       "      <td>United-States</td>\n",
       "    </tr>\n",
       "  </tbody>\n",
       "</table>\n",
       "<p>45222 rows × 13 columns</p>\n",
       "</div>"
      ],
      "text/plain": [
       "       age          workclass education_level  education-num  \\\n",
       "0       39          State-gov       Bachelors           13.0   \n",
       "1       50   Self-emp-not-inc       Bachelors           13.0   \n",
       "2       38            Private         HS-grad            9.0   \n",
       "3       53            Private            11th            7.0   \n",
       "4       28            Private       Bachelors           13.0   \n",
       "...    ...                ...             ...            ...   \n",
       "45217   33            Private       Bachelors           13.0   \n",
       "45218   39            Private       Bachelors           13.0   \n",
       "45219   38            Private       Bachelors           13.0   \n",
       "45220   44            Private       Bachelors           13.0   \n",
       "45221   35       Self-emp-inc       Bachelors           13.0   \n",
       "\n",
       "            marital-status          occupation    relationship  \\\n",
       "0            Never-married        Adm-clerical   Not-in-family   \n",
       "1       Married-civ-spouse     Exec-managerial         Husband   \n",
       "2                 Divorced   Handlers-cleaners   Not-in-family   \n",
       "3       Married-civ-spouse   Handlers-cleaners         Husband   \n",
       "4       Married-civ-spouse      Prof-specialty            Wife   \n",
       "...                    ...                 ...             ...   \n",
       "45217        Never-married      Prof-specialty       Own-child   \n",
       "45218             Divorced      Prof-specialty   Not-in-family   \n",
       "45219   Married-civ-spouse      Prof-specialty         Husband   \n",
       "45220             Divorced        Adm-clerical       Own-child   \n",
       "45221   Married-civ-spouse     Exec-managerial         Husband   \n",
       "\n",
       "                      race      sex  capital-gain  capital-loss  \\\n",
       "0                    White     Male        2174.0           0.0   \n",
       "1                    White     Male           0.0           0.0   \n",
       "2                    White     Male           0.0           0.0   \n",
       "3                    Black     Male           0.0           0.0   \n",
       "4                    Black   Female           0.0           0.0   \n",
       "...                    ...      ...           ...           ...   \n",
       "45217                White     Male           0.0           0.0   \n",
       "45218                White   Female           0.0           0.0   \n",
       "45219                White     Male           0.0           0.0   \n",
       "45220   Asian-Pac-Islander     Male        5455.0           0.0   \n",
       "45221                White     Male           0.0           0.0   \n",
       "\n",
       "       hours-per-week  native-country  \n",
       "0                40.0   United-States  \n",
       "1                13.0   United-States  \n",
       "2                40.0   United-States  \n",
       "3                40.0   United-States  \n",
       "4                40.0            Cuba  \n",
       "...               ...             ...  \n",
       "45217            40.0   United-States  \n",
       "45218            36.0   United-States  \n",
       "45219            50.0   United-States  \n",
       "45220            40.0   United-States  \n",
       "45221            60.0   United-States  \n",
       "\n",
       "[45222 rows x 13 columns]"
      ]
     },
     "execution_count": 69,
     "metadata": {},
     "output_type": "execute_result"
    }
   ],
   "source": [
    "X"
   ]
  },
  {
   "cell_type": "markdown",
   "metadata": {},
   "source": [
    "**Encode Categorical Variables**"
   ]
  },
  {
   "cell_type": "code",
   "execution_count": 70,
   "metadata": {},
   "outputs": [],
   "source": [
    "ct = ColumnTransformer(transformers=[\n",
    "    ('encoder', OneHotEncoder(), [1, 2, 4, 5, 6, 7, 8, 12])\n",
    "], remainder='passthrough')\n",
    "X = ct.fit_transform(X).toarray() "
   ]
  },
  {
   "cell_type": "code",
   "execution_count": 71,
   "metadata": {},
   "outputs": [],
   "source": [
    "mapper = {\n",
    "    '<=50K': 0,\n",
    "    '>50K': 1\n",
    "}\n",
    "y = y.apply(lambda x: mapper[x]).values"
   ]
  },
  {
   "cell_type": "code",
   "execution_count": 72,
   "metadata": {},
   "outputs": [
    {
     "name": "stdout",
     "output_type": "stream",
     "text": [
      "The total features before one-hot encoding was 13 columns. The total features after one-hot encoding is now 103.\n"
     ]
    }
   ],
   "source": [
    "print('The total features before one-hot encoding was {} columns. The total features after one-hot encoding is now {}.'.format(data.shape[1] - 1, X.shape[1]))"
   ]
  },
  {
   "cell_type": "markdown",
   "metadata": {},
   "source": [
    "**Split data into training set and test set**"
   ]
  },
  {
   "cell_type": "code",
   "execution_count": 73,
   "metadata": {},
   "outputs": [
    {
     "name": "stdout",
     "output_type": "stream",
     "text": [
      "The training set has 36177 samples.\n",
      "The testing st has 9045 samples.\n"
     ]
    }
   ],
   "source": [
    "X_train, X_test, y_train, y_test = train_test_split(X, y, test_size=0.20, random_state=42)\n",
    "print(\"The training set has {} samples.\".format(X_train.shape[0]))\n",
    "print(\"The testing st has {} samples.\".format(X_test.shape[0]))"
   ]
  },
  {
   "cell_type": "markdown",
   "metadata": {},
   "source": [
    "$$ F_{\\beta} = (1 + \\beta^2) \\cdot \\frac{precision \\cdot recall}{\\left( \\beta^2 \\cdot precision \\right) + recall} $$"
   ]
  },
  {
   "cell_type": "code",
   "execution_count": 74,
   "metadata": {},
   "outputs": [
    {
     "name": "stdout",
     "output_type": "stream",
     "text": [
      "Naive Predictor: [Accuracy score: 0.3972, F-score: 0.2917]\n"
     ]
    }
   ],
   "source": [
    "TP = np.sum(y)\n",
    "FP = len(y) - TP\n",
    "TN = 0\n",
    "FN = 0\n",
    "\n",
    "precision = TP / (TP + FP)\n",
    "recall = TP / (TP + FN)\n",
    "accuracy = 2 * (precision * recall) / (precision + recall)\n",
    "\n",
    "# f1 beta score\n",
    "beta = 0.5\n",
    "fscore = (1 + beta**2) * precision * recall / ((beta**2 * precision) + recall)\n",
    "print(\"Naive Predictor: [Accuracy score: {:.4f}, F-score: {:.4f}]\".format(accuracy, fscore))"
   ]
  },
  {
   "cell_type": "markdown",
   "metadata": {},
   "source": [
    "**Supervised Learning Models**\n",
    "- Describe one real-world application in industry where the model can be applied. \n",
    "- What are the strengths of the model; when does it perform well?\n",
    "- What are the weaknesses of the model; when does it perform poorly?\n",
    "- Pick three models for this model"
   ]
  },
  {
   "cell_type": "markdown",
   "metadata": {},
   "source": [
    "\n",
    "1. ##### **Gaussian Naive Bayes (GaussianNB)**\n",
    "    - **Real-world application**: This algorithm can be used in the media industry to classifiy articles or posts into different topics on a website; politics, sports, word news etc.\n",
    "    - **Strengths**: Fast and accurate method of prediction. Can be used in multiple prediction problems. It performs well with **categorical input variables** compared to  numerical variables.\n",
    "    - **Weaknesses**: Unable to make predictions if there is no training tuples in a patricular class.\n",
    "    - **Good candidate?** It's a good candidate for this problem.\n",
    "2. ##### **Decision Trees**\n",
    "   - **Real-world application**: This algorithm can be used in real estate agencies to determine the optimal selling price of a house based on its features.\n",
    "   - **Strengths**: Easy to implement. Used to solve both classification and regression problems.\n",
    "   - **Weaknesses**: Inconsistent predictions based on overfitting and very large datasets.\n",
    "   - **Good candidate?** It's a good candidate for this problem.\n",
    "3. ##### **Ensemble Methods (Bagging, AdaBoost, Random Forest, Gradient Boosting*)**\n",
    "   - **Real-world application**: Can be used in criminal investigations; facial recognition software to identify suspects.\n",
    "   - **Strengths**: They improve average prediction performace of the contributing members in the ensemble.\n",
    "   - **Weaknesses**: Difficult to interpret.\n",
    "   - **Good candidate?** It's a good candidate for this problem.\n",
    "4. ##### **K-Nearest Neighbors (KNeighbors)**\n",
    "   - **Real-world application**: Used in retail to detect anomalies in credit card usage.\n",
    "   - **Strengths**: Quick calculation time. Easy to interpret. High accuracy.\n",
    "   - **Weaknesses**: Although it is a fast algorithm, as data grows the speed declines significanlty.\n",
    "   - **Good candidate?** It's a good candidate for this problem.\n",
    "5. ##### **Stochastic Gradient Descent Classifier (SGDC)**\n",
    "   - **Real-world application**: Evaluation of performace of an employee in an organization.\n",
    "   - **Strengths**: Useful when number of variables is large.\n",
    "   - **Weaknesses**: Not suitable for large datasets.\n",
    "   - **Good candidate?** It's not ideal for this problem because it will underperform with large dataset.\n",
    "6. ##### **Support Vector Machines (SVM)***\n",
    "   - **Real-world application**: Used to recognize hand-written characters and validating signatures on documents.\n",
    "   - **Strengths**: Works well with structure and unstructured data.\n",
    "   - **Weaknesses**: May lead to overfitting if more variables are added.\n",
    "   - **Good candidate?** It's a good candidate for this problem because it is used for binary classification as we have in the dataset target variable.\n",
    "7. #### **Logistic Regression***\n",
    "   - **Real-world application**: Credit card company wants to know wheter a transaction is fraudulent or not.\n",
    "   - **Strengths**: Does not require tuning; feature scaling. Easy to implement.\n",
    "   - **Weaknesses**: May lead to overfitting if more variables are added.\n",
    "   - **Good candidate?** It's a good candidate for this problem because it is used for binary classification as we have in the dataset target variable.\n",
    "   \n",
    "   \n",
    "##### **Picked Models**\n",
    "1. **Gradient Boosting**\n",
    "2. **Stochastic Gradient Classifier**\n",
    "3. **Logistic Regression**"
   ]
  },
  {
   "cell_type": "markdown",
   "metadata": {},
   "source": [
    "**Create a Training and Testing Pipeline**"
   ]
  },
  {
   "cell_type": "code",
   "execution_count": 75,
   "metadata": {},
   "outputs": [],
   "source": [
    "from sklearn.metrics import fbeta_score, accuracy_score\n",
    "\n",
    "\n",
    "def train_predict(classifier, X_train, y_train, X_test, y_test):\n",
    "    results = {}\n",
    "    \n",
    "    # Training     \n",
    "    start = time()\n",
    "    classifier = classifier.fit(X_train, y_train)\n",
    "    end = time()\n",
    "    \n",
    "    results['train_time'] = end - start\n",
    "    \n",
    "    \n",
    "    # Testing\n",
    "    start = time()\n",
    "    predicted_test = classifier.predict(X_test)\n",
    "    end = time()\n",
    "    \n",
    "    results['test_time'] = end - start\n",
    "    \n",
    "    # Accuracy Score\n",
    "    score = accuracy_score(y_test, predicted_test)\n",
    "    results['accuracy_score'] = score\n",
    "    \n",
    "    # F1_Score (BETA = 0.5)\n",
    "    f1_score = fbeta_score(y_test, predicted_test, beta=0.5)\n",
    "    results['f1_score(0.5)'] = f1_score\n",
    "    \n",
    "    \n",
    "    print('{} is ready to show results \\U0001F600'.format(classifier.__class__.__name__))\n",
    "    return results"
   ]
  },
  {
   "cell_type": "code",
   "execution_count": 29,
   "metadata": {},
   "outputs": [
    {
     "name": "stderr",
     "output_type": "stream",
     "text": [
      "C:\\Users\\oneda\\anaconda3\\lib\\site-packages\\sklearn\\linear_model\\_logistic.py:762: ConvergenceWarning: lbfgs failed to converge (status=1):\n",
      "STOP: TOTAL NO. of ITERATIONS REACHED LIMIT.\n",
      "\n",
      "Increase the number of iterations (max_iter) or scale the data as shown in:\n",
      "    https://scikit-learn.org/stable/modules/preprocessing.html\n",
      "Please also refer to the documentation for alternative solver options:\n",
      "    https://scikit-learn.org/stable/modules/linear_model.html#logistic-regression\n",
      "  n_iter_i = _check_optimize_result(\n"
     ]
    },
    {
     "name": "stdout",
     "output_type": "stream",
     "text": [
      "LogisticRegression is ready to show results 😀\n",
      "GradientBoostingClassifier is ready to show results 😀\n",
      "SGDClassifier is ready to show results 😀\n"
     ]
    }
   ],
   "source": [
    "clf_A = LogisticRegression()\n",
    "clf_B = GradientBoostingClassifier()\n",
    "clf_C = SGDClassifier()\n",
    "\n",
    "results = {}\n",
    "for i, clf in enumerate([clf_A, clf_B, clf_C]):\n",
    "    clf_name = clf.__class__.__name__\n",
    "    results[clf_name] = {}\n",
    "    results[clf_name][i] = train_predict(clf, X_train, y_train, X_test, y_test)"
   ]
  },
  {
   "cell_type": "code",
   "execution_count": 30,
   "metadata": {},
   "outputs": [
    {
     "data": {
      "text/plain": [
       "{'LogisticRegression': {0: {'train_time': 1.6480495929718018,\n",
       "   'test_time': 0.008001327514648438,\n",
       "   'accuracy_score': 0.8423438363736871,\n",
       "   'f1_score(0.5)': 0.7018716577540107}},\n",
       " 'GradientBoostingClassifier': {1: {'train_time': 32.73813819885254,\n",
       "   'test_time': 0.032012224197387695,\n",
       "   'accuracy_score': 0.8637921503593146,\n",
       "   'f1_score(0.5)': 0.7579844626672421}},\n",
       " 'SGDClassifier': {2: {'train_time': 1.3973140716552734,\n",
       "   'test_time': 0.002155780792236328,\n",
       "   'accuracy_score': 0.808955223880597,\n",
       "   'f1_score(0.5)': 0.6241765480895916}}}"
      ]
     },
     "execution_count": 30,
     "metadata": {},
     "output_type": "execute_result"
    }
   ],
   "source": [
    "results"
   ]
  },
  {
   "cell_type": "markdown",
   "metadata": {},
   "source": [
    "**Improving Results**"
   ]
  },
  {
   "cell_type": "code",
   "execution_count": 31,
   "metadata": {
    "scrolled": false
   },
   "outputs": [
    {
     "name": "stdout",
     "output_type": "stream",
     "text": [
      "Unoptimized model\n",
      "------\n",
      "Accuracy score on testing data: 0.8638\n",
      "F-score on testing data: 0.7580\n",
      "\n",
      "Optimized Model\n",
      "------\n",
      "Final accuracy score on the testing data: 0.8708\n",
      "Final F-score on the testing data: 0.7671\n"
     ]
    }
   ],
   "source": [
    "clf = GradientBoostingClassifier()\n",
    "\n",
    "parameters = {'learning_rate': [0.1, 0.2, 0.3], 'n_estimators': [100, 150, 200]}\n",
    "\n",
    "scorer = make_scorer(fbeta_score, beta=0.5)\n",
    "\n",
    "grid_obj = GridSearchCV(estimator=clf, param_grid=parameters, scoring=scorer)\n",
    "grid_fit = grid_obj.fit(X_train, y_train)\n",
    "\n",
    "best_clf = grid_fit.best_estimator_\n",
    "\n",
    "# Unoptimized model predictions\n",
    "predictions = (clf.fit(X_train, y_train)).predict(X_test)\n",
    "best_predictions = best_clf.predict(X_test)\n",
    "\n",
    "print(\"Unoptimized model\\n------\")\n",
    "print(\"Accuracy score on testing data: {:.4f}\".format(accuracy_score(y_test, predictions)))\n",
    "print(\"F-score on testing data: {:.4f}\".format(fbeta_score(y_test, predictions, beta = 0.5)))\n",
    "print(\"\\nOptimized Model\\n------\")\n",
    "print(\"Final accuracy score on the testing data: {:.4f}\".format(accuracy_score(y_test, best_predictions)))\n",
    "print(\"Final F-score on the testing data: {:.4f}\".format(fbeta_score(y_test, best_predictions, beta = 0.5)))"
   ]
  },
  {
   "cell_type": "code",
   "execution_count": 76,
   "metadata": {},
   "outputs": [
    {
     "data": {
      "text/plain": [
       "GradientBoostingClassifier(learning_rate=0.2, n_estimators=150)"
      ]
     },
     "execution_count": 76,
     "metadata": {},
     "output_type": "execute_result"
    }
   ],
   "source": [
    "best_clf"
   ]
  },
  {
   "cell_type": "markdown",
   "metadata": {},
   "source": [
    "**Feature Importance**\n",
    "- An important task when performing supervised learning on a dataset like the census data we study here is determining which features provide the most predictive power.\n",
    "- Choose a scikit-learn classifier (e.g., adaboost, random forests) that has a `feature_importances_` attribute, which is a function that ranks the importance of features according to the chosen classifier."
   ]
  },
  {
   "cell_type": "code",
   "execution_count": 180,
   "metadata": {},
   "outputs": [
    {
     "name": "stdout",
     "output_type": "stream",
     "text": [
      "Training time\n",
      "------\n",
      "24.196728944778442\n",
      "Best features importances\n",
      "------\n",
      "[1.74291305e-03 3.73737581e-04 4.13094729e-05 9.45678047e-04\n",
      " 4.31349591e-03 0.00000000e+00 1.56966164e-05 0.00000000e+00\n",
      " 0.00000000e+00 0.00000000e+00 0.00000000e+00 0.00000000e+00\n",
      " 0.00000000e+00 0.00000000e+00 4.30988332e-05 0.00000000e+00\n",
      " 6.65339516e-05 8.31629540e-05 2.88367066e-03 1.47264434e-04\n",
      " 1.12933742e-04 2.81486364e-04 5.66576821e-05 0.00000000e+00\n",
      " 7.80368661e-04 3.96494216e-01 0.00000000e+00 4.32326017e-04\n",
      " 0.00000000e+00 0.00000000e+00 3.02508370e-05 0.00000000e+00\n",
      " 3.07721092e-05 1.69680852e-02 4.44065271e-03 6.61349229e-04\n",
      " 6.95344028e-04 5.02241208e-03 0.00000000e+00 7.21013723e-03\n",
      " 2.66802225e-04 5.27623284e-04 5.32066506e-04 3.19140213e-05\n",
      " 1.63863607e-03 6.03767577e-05 3.86212239e-05 1.93961469e-04\n",
      " 8.99261822e-05 4.98543855e-03 0.00000000e+00 3.67490205e-05\n",
      " 0.00000000e+00 0.00000000e+00 2.86283939e-04 0.00000000e+00\n",
      " 1.55222649e-03 9.87131025e-05 8.77259038e-05 0.00000000e+00\n",
      " 0.00000000e+00 0.00000000e+00 0.00000000e+00 0.00000000e+00\n",
      " 0.00000000e+00 0.00000000e+00 0.00000000e+00 0.00000000e+00\n",
      " 0.00000000e+00 5.46753679e-05 0.00000000e+00 0.00000000e+00\n",
      " 0.00000000e+00 0.00000000e+00 5.58524514e-05 0.00000000e+00\n",
      " 0.00000000e+00 0.00000000e+00 5.47681587e-05 0.00000000e+00\n",
      " 1.16201607e-04 0.00000000e+00 1.90385243e-04 0.00000000e+00\n",
      " 0.00000000e+00 0.00000000e+00 0.00000000e+00 0.00000000e+00\n",
      " 2.73319657e-05 1.38172842e-05 0.00000000e+00 1.41128935e-04\n",
      " 0.00000000e+00 0.00000000e+00 9.19478809e-05 3.92568310e-05\n",
      " 0.00000000e+00 2.59718620e-05 5.73550472e-02 1.97996389e-01\n",
      " 1.98532381e-01 5.84918891e-02 3.25123378e-02]\n"
     ]
    }
   ],
   "source": [
    "start = time()\n",
    "model = GradientBoostingClassifier()\n",
    "model.fit(X_train, y_train)\n",
    "end = time()\n",
    "all_features_time = end - start\n",
    "\n",
    "importances = model.feature_importances_\n",
    "\n",
    "print('Training time\\n------')\n",
    "print('{}'.format(all_features_time))\n",
    "print('Best features importances\\n------')\n",
    "print('{}'.format(importances))"
   ]
  },
  {
   "cell_type": "code",
   "execution_count": 178,
   "metadata": {},
   "outputs": [
    {
     "data": {
      "text/plain": [
       "Text(0, 0.5, 'Index of Feature')"
      ]
     },
     "execution_count": 178,
     "metadata": {},
     "output_type": "execute_result"
    },
    {
     "data": {
      "image/png": "[encoded data removed]",
      "text/plain": [
       "<Figure size 432x288 with 1 Axes>"
      ]
     },
     "metadata": {
      "needs_background": "light"
     },
     "output_type": "display_data"
    }
   ],
   "source": [
    "pd.Series(importances).nlargest(6).plot(kind='barh', color='r', alpha=0.6)\n",
    "plt.ylabel('Index of Feature')"
   ]
  },
  {
   "cell_type": "code",
   "execution_count": 184,
   "metadata": {},
   "outputs": [
    {
     "name": "stdout",
     "output_type": "stream",
     "text": [
      "Final Model trained on full data: Optimized Model\n",
      "------\n",
      "Accuracy on testing data: 0.8708\n",
      "F-score on testing data: 0.7671\n",
      "\n",
      "Final Model trained on reduced data\n",
      "------\n",
      "Accuracy on testing data: 0.8606\n",
      "F-score on testing data: 0.7468\n",
      "\n",
      "Model training times between all features and reduced features\n",
      "------\n",
      "All features: 24.1967\n",
      "Reduced features: 2.1160\n",
      "Model training time difference: 22.0807\n",
      "\n",
      "Differences in F-score\n",
      "------\n",
      "The F-score reduced by: 2.02 %\n",
      "The accuracy reduced by: 1.02 %\n",
      "\n",
      "The difference in training time is 22.080710411071777 seconds. If training time wasn't an important factor in this problem as well as the reduced F-score, then using the five reduced features would be considered. \n"
     ]
    }
   ],
   "source": [
    "reduced_features = pd.Series(importances).nlargest(5).index\n",
    "\n",
    "X_train_reduced = X_train[:, reduced_features]\n",
    "X_test_reduced = X_test[:, reduced_features]\n",
    "\n",
    "start = time()\n",
    "clf = (clone(best_clf)).fit(X_train_reduced, y_train)\n",
    "end = time()\n",
    "reduced_features_time = end - start\n",
    "\n",
    "reduced_predictions = clf.predict(X_test_reduced)\n",
    "\n",
    "print(\"Final Model trained on full data: Optimized Model\\n------\")\n",
    "print(\"Accuracy on testing data: {:.4f}\".format(accuracy_score(y_test, best_predictions)))\n",
    "print(\"F-score on testing data: {:.4f}\".format(fbeta_score(y_test, best_predictions, beta = 0.5)))\n",
    "print(\"\\nFinal Model trained on reduced data\\n------\")\n",
    "print(\"Accuracy on testing data: {:.4f}\".format(accuracy_score(y_test, reduced_predictions)))\n",
    "print(\"F-score on testing data: {:.4f}\".format(fbeta_score(y_test, reduced_predictions, beta = 0.5)))\n",
    "\n",
    "print(\"\\nModel training times between all features and reduced features\\n------\")\n",
    "print(\"All features: {:.4f}\".format(all_features_time))\n",
    "print(\"Reduced features: {:.4f}\".format(reduced_features_time))\n",
    "print(\"Model training time difference: {:.4f}\".format(all_features_time - reduced_features_time))\n",
    "\n",
    "best_acc_minus_reduced = (accuracy_score(y_test, best_predictions) - accuracy_score(y_test, reduced_predictions)) * 100\n",
    "best_f_score_minus_reduced = (fbeta_score(y_test, best_predictions, beta = 0.5) - fbeta_score(y_test, reduced_predictions, beta = 0.5)) * 100\n",
    "time_difference = all_features_time - reduced_features_time\n",
    "print(\"\\nDifferences in F-score\\n------\")\n",
    "print(\"The F-score reduced by: {:.2f} %\".format(best_f_score_minus_reduced))\n",
    "print(\"The accuracy reduced by: {:.2f} %\".format(best_acc_minus_reduced))\n",
    "print(f\"\\nThe difference in training time is {time_difference} seconds. \\\n",
    "If training time wasn't an important factor in this problem as well as the reduced F-score, then using the five reduced features would be considered.\")"
   ]
  },
  {
   "cell_type": "code",
   "execution_count": null,
   "metadata": {},
   "outputs": [],
   "source": []
  }
 ],
 "metadata": {
  "kernelspec": {
   "display_name": "Python 3",
   "language": "python",
   "name": "python3"
  },
  "language_info": {
   "codemirror_mode": {
    "name": "ipython",
    "version": 3
   },
   "file_extension": ".py",
   "mimetype": "text/x-python",
   "name": "python",
   "nbconvert_exporter": "python",
   "pygments_lexer": "ipython3",
   "version": "3.8.5"
  }
 },
 "nbformat": 4,
 "nbformat_minor": 4
}
